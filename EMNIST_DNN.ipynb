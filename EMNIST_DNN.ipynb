{
  "nbformat": 4,
  "nbformat_minor": 0,
  "metadata": {
    "accelerator": "GPU",
    "colab": {
      "name": "EMNIST_DNN.ipynb",
      "provenance": [],
      "collapsed_sections": [],
      "toc_visible": true,
      "include_colab_link": true
    },
    "kernelspec": {
      "display_name": "Python 3",
      "language": "python",
      "name": "python3"
    },
    "language_info": {
      "codemirror_mode": {
        "name": "ipython",
        "version": 3
      },
      "file_extension": ".py",
      "mimetype": "text/x-python",
      "name": "python",
      "nbconvert_exporter": "python",
      "pygments_lexer": "ipython3",
      "version": "3.7.6"
    }
  },
  "cells": [
    {
      "cell_type": "markdown",
      "metadata": {
        "id": "view-in-github",
        "colab_type": "text"
      },
      "source": [
        "<a href=\"https://colab.research.google.com/github/woodychang0611/EMNIST/blob/master/EMNIST_DNN.ipynb\" target=\"_parent\"><img src=\"https://colab.research.google.com/assets/colab-badge.svg\" alt=\"Open In Colab\"/></a>"
      ]
    },
    {
      "cell_type": "markdown",
      "metadata": {
        "colab_type": "text",
        "id": "M6xodRU-A_GV"
      },
      "source": [
        "# Prepare Environment\n",
        "If running on colab mount google drive, otherwise use 200g drive from NCCU GPU cloud"
      ]
    },
    {
      "cell_type": "code",
      "metadata": {
        "colab_type": "code",
        "id": "AqMs0yceAxaw",
        "colab": {}
      },
      "source": [
        "import sys\n",
        "import os\n",
        "if ('google.colab' in sys.modules):\n",
        "  from google.colab import drive\n",
        "  drive.mount('/content/gdrive')\n",
        "  gdrive_root = 'gdrive/My Drive/Deep_Learning/'\n",
        "  dataset_path = os.path.join(gdrive_root,'Dataset')\n",
        "else:\n",
        "  dataset_path = '200g/Dataset'\n",
        "  pass\n",
        "\n",
        "if not os.path.exists(dataset_path):\n",
        "  raise Exception(f'dataset_path \"{dataset_path}\"\" does not exist')\n"
      ],
      "execution_count": 0,
      "outputs": []
    },
    {
      "cell_type": "markdown",
      "metadata": {
        "colab_type": "text",
        "id": "xOQv68AZC_M4"
      },
      "source": [
        "# Load Dataset"
      ]
    },
    {
      "cell_type": "code",
      "metadata": {
        "colab_type": "code",
        "id": "MZ9n-431460N",
        "outputId": "135b40a4-c5ff-476b-c4af-2bfe9b59321b",
        "colab": {
          "base_uri": "https://localhost:8080/",
          "height": 50
        }
      },
      "source": [
        "import torch\n",
        "from torch import nn\n",
        "import torch.nn.functional as F\n",
        "import torch.optim\n",
        "import torch.autograd\n",
        "import torchvision\n",
        "import torchvision.transforms\n",
        "import numpy as np\n",
        "from torchsummary import summary\n",
        "from matplotlib import pyplot as plt\n",
        "import datetime\n",
        "\n",
        "trans = torchvision.transforms.Compose([torchvision.transforms.ToTensor(), torchvision.transforms.Normalize((0.5,), (1.0,))])\n",
        "use_cuda = None\n",
        "if torch.cuda.is_available():\n",
        "  print(\"CUDA available\")\n",
        "  use_cuda = True\n",
        "else:\n",
        "  print (\"CUDA not available\")\n",
        "  use_cuda = False\n",
        "if os.path.exists(dataset_path):\n",
        "  train_set = torchvision.datasets.EMNIST(root=dataset_path, transform=trans,train =True, split=\"byclass\",download=True)\n",
        "  test_set = torchvision.datasets.EMNIST(root=dataset_path, transform=trans,split=\"byclass\", train =False)\n",
        "  print (f'Dataset loaded, {train_set.__len__():,} training set, {test_set.__len__():,} testing set')\n",
        "else:\n",
        "  print (f'dataset_path \"{dataset_path}\" not found')\n",
        "  exit(0)\n",
        "\n",
        "batch_size = 256\n",
        "\n",
        "train_loader = torch.utils.data.DataLoader(\n",
        "                 dataset=train_set,\n",
        "                 batch_size=batch_size,\n",
        "                 shuffle=True)\n",
        "test_loader = torch.utils.data.DataLoader(\n",
        "                dataset=test_set,\n",
        "                batch_size=batch_size,\n",
        "                shuffle=False)\n",
        "print(datetime.datetime.now())\n",
        "preload_train_data = list(enumerate(train_loader))\n",
        "print(datetime.datetime.now())\n",
        "preload_test_data = list(enumerate(test_loader))\n",
        "print(datetime.datetime.now())"
      ],
      "execution_count": 0,
      "outputs": [
        {
          "output_type": "stream",
          "text": [
            "CUDA available\n",
            "Dataset loaded, 697,932 training set, 116,323 testing set\n",
            "2020-04-04 08:10:21.301541\n",
            "2020-04-04 08:12:08.785278\n",
            "2020-04-04 08:12:25.975252\n"
          ],
          "name": "stdout"
        }
      ]
    },
    {
      "cell_type": "markdown",
      "metadata": {
        "colab_type": "text",
        "id": "gIKW9C5mbBXs"
      },
      "source": [
        "# Common Functions"
      ]
    },
    {
      "cell_type": "code",
      "metadata": {
        "colab_type": "code",
        "id": "hXFaOXpTbDsr",
        "colab": {}
      },
      "source": [
        "ceriation = nn.CrossEntropyLoss()\n",
        "def apply_model(model,x,target):\n",
        "    x, target = torch.autograd.Variable(x), torch.autograd.Variable(target)\n",
        "    out = model(x)\n",
        "    loss = torch.nn.CrossEntropyLoss()(out, target)\n",
        "    return out,loss\n",
        "def plot_graph(name,train_loss,test_loss):\n",
        "  fig, ax = plt.subplots()\n",
        "  ax.plot(train_loss,label='train loss')\n",
        "  ax.plot(test_loss,label='test loss')  \n",
        "  ax.set(xlabel='epoch', ylabel='Loss',title=name)\n",
        "  plt.legend()\n",
        "  plt.show()\n"
      ],
      "execution_count": 0,
      "outputs": []
    },
    {
      "cell_type": "markdown",
      "metadata": {
        "colab_type": "text",
        "id": "ojpFdoTxa3WU"
      },
      "source": [
        "# Define DNN"
      ]
    },
    {
      "cell_type": "code",
      "metadata": {
        "colab_type": "code",
        "id": "VD_XLlL2-keO",
        "colab": {}
      },
      "source": [
        "#DNN\n",
        "class DNN(nn.Module):\n",
        "    def __init__(self,dropouts=(0,),layer_widths=(512,)):\n",
        "        super(DNN, self).__init__()\n",
        "        if (len(dropouts) != len(layer_widths) or len(dropouts)<=0 or len(layer_widths)<=0):\n",
        "          raise Exception (\"dropouts and layer_widths must have same width and greater than 0\")\n",
        "        self.dropouts=dropouts\n",
        "        self.layer_widths = layer_widths\n",
        "        input_width = 28*28\n",
        "        self.fc = nn.ModuleList()\n",
        "        for width in self.layer_widths:\n",
        "          self.fc.append(nn.Linear(input_width, width))\n",
        "          input_width = width\n",
        "        self.final = nn.Linear(layer_widths[-1], 62)\n",
        "\n",
        "    def forward(self, x):\n",
        "        x = x.view(-1, 28*28)\n",
        "        for dropout, fc in zip(self.dropouts,self.fc):\n",
        "          x = F.dropout(x,dropout)\n",
        "          x = fc(x)\n",
        "          x = F.relu(x)\n",
        "        x = self.final(x)\n",
        "        return x\n",
        "    @property\n",
        "    def name(self):\n",
        "        return f\"DNN, Width:{self.layer_widths}, Dropout: {self.dropouts}\""
      ],
      "execution_count": 0,
      "outputs": []
    },
    {
      "cell_type": "code",
      "metadata": {
        "colab_type": "code",
        "id": "ceS6a8HGuFjp",
        "outputId": "cb05db77-6553-41a5-a35f-145e3148f081",
        "colab": {
          "base_uri": "https://localhost:8080/",
          "height": 1000
        }
      },
      "source": [
        "models = (\n",
        "    DNN(layer_widths = (500,256,), dropouts = (0,0,)),    \n",
        "    DNN(layer_widths = (700,256,), dropouts = (0,0,)),  \n",
        "    DNN(layer_widths = (700,500,256,), dropouts = (0,0,0,)),\n",
        "    DNN(layer_widths = (700,500,256,), dropouts = (0.2,0,0,)), \n",
        "    )\n",
        "sample_limit = 100000000\n",
        "for model in models:\n",
        "  name = model.name\n",
        "  print(datetime.datetime.now())\n",
        "  optimizer = torch.optim.SGD(model.parameters(), lr=0.01, momentum=0.9)\n",
        "  parameter_len = sum(p.numel() for p in model.parameters() if p.requires_grad)\n",
        "  print(f'model:{name}, parameter:{parameter_len:,}')\n",
        "  train_loss=[]\n",
        "  test_loss=[]\n",
        "  if use_cuda:\n",
        "    model.cuda()\n",
        "  summary(model,(1,28,28))\n",
        "  for epoch in range(25):\n",
        "    # training\n",
        "    ave_loss = 0\n",
        "    for batch_idx, (x, target) in preload_train_data:\n",
        "        optimizer.zero_grad()\n",
        "        if use_cuda:\n",
        "            x, target = x.cuda(), target.cuda()\n",
        "        out,loss = apply_model (model,x,target)\n",
        "        ave_loss = ave_loss * 0.9 + loss.data* 0.1\n",
        "        loss.backward()\n",
        "        optimizer.step()\n",
        "        if (batch_idx+1) == len(train_loader) or batch_idx >sample_limit:\n",
        "            print (f'==>>> epoch: {epoch}, batch index: {batch_idx+1}, train loss: {ave_loss:.6f}')\n",
        "            break\n",
        "    train_loss.append(ave_loss)\n",
        "    # testing\n",
        "    correct_cnt, ave_loss = 0, 0\n",
        "    total_cnt = 0\n",
        "    for batch_idx, (x, target) in preload_test_data:\n",
        "        if use_cuda:\n",
        "          x, target = x.cuda(), target.cuda()      \n",
        "        out,loss = apply_model (model,x,target)        \n",
        "        _, pred_label = torch.max(out.data, 1)\n",
        "        total_cnt += x.data.size()[0]\n",
        "        correct_cnt += (pred_label == target.data).sum()\n",
        "        # smooth average\n",
        "        ave_loss = ave_loss * 0.9 + loss.data * 0.1\n",
        "        if (batch_idx) == len(test_loader)-1 or batch_idx >sample_limit:\n",
        "            print (f'==>>> epoch: {epoch}, batch index: {batch_idx+1}, test loss: {ave_loss:.6f}, acc: {correct_cnt * 1.0 / total_cnt:.3f}')\n",
        "            break\n",
        "    test_loss.append(ave_loss)\n",
        "  plot_graph(name,train_loss,test_loss)    "
      ],
      "execution_count": 0,
      "outputs": [
        {
          "output_type": "stream",
          "text": [
            "2020-04-04 08:21:20.602343\n",
            "model:DNN, Width:(500, 256), Dropout: (0, 0), parameter:536,690\n",
            "----------------------------------------------------------------\n",
            "        Layer (type)               Output Shape         Param #\n",
            "================================================================\n",
            "            Linear-1                  [-1, 500]         392,500\n",
            "            Linear-2                  [-1, 256]         128,256\n",
            "            Linear-3                   [-1, 62]          15,934\n",
            "================================================================\n",
            "Total params: 536,690\n",
            "Trainable params: 536,690\n",
            "Non-trainable params: 0\n",
            "----------------------------------------------------------------\n",
            "Input size (MB): 0.00\n",
            "Forward/backward pass size (MB): 0.01\n",
            "Params size (MB): 2.05\n",
            "Estimated Total Size (MB): 2.06\n",
            "----------------------------------------------------------------\n",
            "==>>> epoch: 0, batch index: 2727, train loss: 0.718130\n",
            "==>>> epoch: 0, batch index: 455, test loss: 0.707064, acc: 0.781\n",
            "==>>> epoch: 1, batch index: 2727, train loss: 0.579746\n",
            "==>>> epoch: 1, batch index: 455, test loss: 0.564882, acc: 0.816\n",
            "==>>> epoch: 2, batch index: 2727, train loss: 0.521048\n",
            "==>>> epoch: 2, batch index: 455, test loss: 0.514271, acc: 0.828\n",
            "==>>> epoch: 3, batch index: 2727, train loss: 0.487393\n",
            "==>>> epoch: 3, batch index: 455, test loss: 0.486996, acc: 0.835\n",
            "==>>> epoch: 4, batch index: 2727, train loss: 0.465265\n",
            "==>>> epoch: 4, batch index: 455, test loss: 0.467646, acc: 0.840\n",
            "==>>> epoch: 5, batch index: 2727, train loss: 0.448453\n",
            "==>>> epoch: 5, batch index: 455, test loss: 0.453761, acc: 0.843\n",
            "==>>> epoch: 6, batch index: 2727, train loss: 0.434942\n",
            "==>>> epoch: 6, batch index: 455, test loss: 0.444435, acc: 0.845\n",
            "==>>> epoch: 7, batch index: 2727, train loss: 0.423996\n",
            "==>>> epoch: 7, batch index: 455, test loss: 0.436233, acc: 0.848\n",
            "==>>> epoch: 8, batch index: 2727, train loss: 0.414310\n",
            "==>>> epoch: 8, batch index: 455, test loss: 0.431200, acc: 0.849\n",
            "==>>> epoch: 9, batch index: 2727, train loss: 0.406036\n",
            "==>>> epoch: 9, batch index: 455, test loss: 0.426584, acc: 0.851\n",
            "==>>> epoch: 10, batch index: 2727, train loss: 0.399135\n",
            "==>>> epoch: 10, batch index: 455, test loss: 0.423270, acc: 0.851\n",
            "==>>> epoch: 11, batch index: 2727, train loss: 0.392482\n",
            "==>>> epoch: 11, batch index: 455, test loss: 0.420718, acc: 0.852\n",
            "==>>> epoch: 12, batch index: 2727, train loss: 0.386272\n",
            "==>>> epoch: 12, batch index: 455, test loss: 0.419462, acc: 0.852\n",
            "==>>> epoch: 13, batch index: 2727, train loss: 0.381223\n",
            "==>>> epoch: 13, batch index: 455, test loss: 0.417488, acc: 0.853\n",
            "==>>> epoch: 14, batch index: 2727, train loss: 0.376281\n",
            "==>>> epoch: 14, batch index: 455, test loss: 0.416550, acc: 0.853\n",
            "==>>> epoch: 15, batch index: 2727, train loss: 0.371647\n",
            "==>>> epoch: 15, batch index: 455, test loss: 0.414392, acc: 0.853\n",
            "==>>> epoch: 16, batch index: 2727, train loss: 0.366134\n",
            "==>>> epoch: 16, batch index: 455, test loss: 0.414354, acc: 0.854\n",
            "==>>> epoch: 17, batch index: 2727, train loss: 0.362044\n",
            "==>>> epoch: 17, batch index: 455, test loss: 0.414934, acc: 0.854\n",
            "==>>> epoch: 18, batch index: 2727, train loss: 0.357803\n",
            "==>>> epoch: 18, batch index: 455, test loss: 0.413697, acc: 0.854\n",
            "==>>> epoch: 19, batch index: 2727, train loss: 0.354005\n",
            "==>>> epoch: 19, batch index: 455, test loss: 0.413824, acc: 0.854\n",
            "==>>> epoch: 20, batch index: 2727, train loss: 0.350562\n",
            "==>>> epoch: 20, batch index: 455, test loss: 0.413371, acc: 0.854\n",
            "==>>> epoch: 21, batch index: 2727, train loss: 0.346974\n",
            "==>>> epoch: 21, batch index: 455, test loss: 0.414064, acc: 0.854\n",
            "==>>> epoch: 22, batch index: 2727, train loss: 0.343779\n",
            "==>>> epoch: 22, batch index: 455, test loss: 0.413790, acc: 0.854\n",
            "==>>> epoch: 23, batch index: 2727, train loss: 0.340495\n",
            "==>>> epoch: 23, batch index: 455, test loss: 0.413866, acc: 0.855\n",
            "==>>> epoch: 24, batch index: 2727, train loss: 0.337887\n",
            "==>>> epoch: 24, batch index: 455, test loss: 0.414623, acc: 0.855\n"
          ],
          "name": "stdout"
        },
        {
          "output_type": "display_data",
          "data": {
            "image/png": "[encoded data removed]",
            "text/plain": [
              "<Figure size 432x288 with 1 Axes>"
            ]
          },
          "metadata": {
            "tags": [],
            "needs_background": "light"
          }
        },
        {
          "output_type": "stream",
          "text": [
            "2020-04-04 08:23:19.481236\n",
            "model:DNN, Width:(700, 256), Dropout: (0, 0), parameter:744,890\n",
            "----------------------------------------------------------------\n",
            "        Layer (type)               Output Shape         Param #\n",
            "================================================================\n",
            "            Linear-1                  [-1, 700]         549,500\n",
            "            Linear-2                  [-1, 256]         179,456\n",
            "            Linear-3                   [-1, 62]          15,934\n",
            "================================================================\n",
            "Total params: 744,890\n",
            "Trainable params: 744,890\n",
            "Non-trainable params: 0\n",
            "----------------------------------------------------------------\n",
            "Input size (MB): 0.00\n",
            "Forward/backward pass size (MB): 0.01\n",
            "Params size (MB): 2.84\n",
            "Estimated Total Size (MB): 2.85\n",
            "----------------------------------------------------------------\n",
            "==>>> epoch: 0, batch index: 2727, train loss: 0.713060\n",
            "==>>> epoch: 0, batch index: 455, test loss: 0.700227, acc: 0.782\n",
            "==>>> epoch: 1, batch index: 2727, train loss: 0.572380\n",
            "==>>> epoch: 1, batch index: 455, test loss: 0.561213, acc: 0.816\n",
            "==>>> epoch: 2, batch index: 2727, train loss: 0.517699\n",
            "==>>> epoch: 2, batch index: 455, test loss: 0.511339, acc: 0.829\n",
            "==>>> epoch: 3, batch index: 2727, train loss: 0.484825\n",
            "==>>> epoch: 3, batch index: 455, test loss: 0.483823, acc: 0.836\n",
            "==>>> epoch: 4, batch index: 2727, train loss: 0.463573\n",
            "==>>> epoch: 4, batch index: 455, test loss: 0.466368, acc: 0.840\n",
            "==>>> epoch: 5, batch index: 2727, train loss: 0.445205\n",
            "==>>> epoch: 5, batch index: 455, test loss: 0.454533, acc: 0.843\n",
            "==>>> epoch: 6, batch index: 2727, train loss: 0.430812\n",
            "==>>> epoch: 6, batch index: 455, test loss: 0.445054, acc: 0.846\n",
            "==>>> epoch: 7, batch index: 2727, train loss: 0.420640\n",
            "==>>> epoch: 7, batch index: 455, test loss: 0.436920, acc: 0.847\n",
            "==>>> epoch: 8, batch index: 2727, train loss: 0.412026\n",
            "==>>> epoch: 8, batch index: 455, test loss: 0.429989, acc: 0.849\n",
            "==>>> epoch: 9, batch index: 2727, train loss: 0.403565\n",
            "==>>> epoch: 9, batch index: 455, test loss: 0.425468, acc: 0.851\n",
            "==>>> epoch: 10, batch index: 2727, train loss: 0.396561\n",
            "==>>> epoch: 10, batch index: 455, test loss: 0.421703, acc: 0.852\n",
            "==>>> epoch: 11, batch index: 2727, train loss: 0.390391\n",
            "==>>> epoch: 11, batch index: 455, test loss: 0.418248, acc: 0.852\n",
            "==>>> epoch: 12, batch index: 2727, train loss: 0.384127\n",
            "==>>> epoch: 12, batch index: 455, test loss: 0.415911, acc: 0.853\n",
            "==>>> epoch: 13, batch index: 2727, train loss: 0.378378\n",
            "==>>> epoch: 13, batch index: 455, test loss: 0.414065, acc: 0.854\n",
            "==>>> epoch: 14, batch index: 2727, train loss: 0.374104\n",
            "==>>> epoch: 14, batch index: 455, test loss: 0.411567, acc: 0.854\n",
            "==>>> epoch: 15, batch index: 2727, train loss: 0.369495\n",
            "==>>> epoch: 15, batch index: 455, test loss: 0.410691, acc: 0.855\n",
            "==>>> epoch: 16, batch index: 2727, train loss: 0.365437\n",
            "==>>> epoch: 16, batch index: 455, test loss: 0.409826, acc: 0.855\n",
            "==>>> epoch: 17, batch index: 2727, train loss: 0.360206\n",
            "==>>> epoch: 17, batch index: 455, test loss: 0.408635, acc: 0.856\n",
            "==>>> epoch: 18, batch index: 2727, train loss: 0.356510\n",
            "==>>> epoch: 18, batch index: 455, test loss: 0.408547, acc: 0.856\n",
            "==>>> epoch: 19, batch index: 2727, train loss: 0.352923\n",
            "==>>> epoch: 19, batch index: 455, test loss: 0.408057, acc: 0.856\n",
            "==>>> epoch: 20, batch index: 2727, train loss: 0.348680\n",
            "==>>> epoch: 20, batch index: 455, test loss: 0.408926, acc: 0.856\n",
            "==>>> epoch: 21, batch index: 2727, train loss: 0.345094\n",
            "==>>> epoch: 21, batch index: 455, test loss: 0.408999, acc: 0.856\n",
            "==>>> epoch: 22, batch index: 2727, train loss: 0.340984\n",
            "==>>> epoch: 22, batch index: 455, test loss: 0.408005, acc: 0.856\n",
            "==>>> epoch: 23, batch index: 2727, train loss: 0.338146\n",
            "==>>> epoch: 23, batch index: 455, test loss: 0.408598, acc: 0.856\n",
            "==>>> epoch: 24, batch index: 2727, train loss: 0.334794\n",
            "==>>> epoch: 24, batch index: 455, test loss: 0.407879, acc: 0.856\n"
          ],
          "name": "stdout"
        },
        {
          "output_type": "display_data",
          "data": {
            "image/png": "[encoded data removed]",
            "text/plain": [
              "<Figure size 432x288 with 1 Axes>"
            ]
          },
          "metadata": {
            "tags": [],
            "needs_background": "light"
          }
        },
        {
          "output_type": "stream",
          "text": [
            "2020-04-04 08:25:18.264161\n",
            "model:DNN, Width:(700, 500, 256), Dropout: (0, 0, 0), parameter:1,044,190\n",
            "----------------------------------------------------------------\n",
            "        Layer (type)               Output Shape         Param #\n",
            "================================================================\n",
            "            Linear-1                  [-1, 700]         549,500\n",
            "            Linear-2                  [-1, 500]         350,500\n",
            "            Linear-3                  [-1, 256]         128,256\n",
            "            Linear-4                   [-1, 62]          15,934\n",
            "================================================================\n",
            "Total params: 1,044,190\n",
            "Trainable params: 1,044,190\n",
            "Non-trainable params: 0\n",
            "----------------------------------------------------------------\n",
            "Input size (MB): 0.00\n",
            "Forward/backward pass size (MB): 0.01\n",
            "Params size (MB): 3.98\n",
            "Estimated Total Size (MB): 4.00\n",
            "----------------------------------------------------------------\n",
            "==>>> epoch: 0, batch index: 2727, train loss: 0.663565\n",
            "==>>> epoch: 0, batch index: 455, test loss: 0.653548, acc: 0.790\n",
            "==>>> epoch: 1, batch index: 2727, train loss: 0.539982\n",
            "==>>> epoch: 1, batch index: 455, test loss: 0.531302, acc: 0.822\n",
            "==>>> epoch: 2, batch index: 2727, train loss: 0.491412\n",
            "==>>> epoch: 2, batch index: 455, test loss: 0.496213, acc: 0.832\n",
            "==>>> epoch: 3, batch index: 2727, train loss: 0.461693\n",
            "==>>> epoch: 3, batch index: 455, test loss: 0.470820, acc: 0.839\n",
            "==>>> epoch: 4, batch index: 2727, train loss: 0.440207\n",
            "==>>> epoch: 4, batch index: 455, test loss: 0.453031, acc: 0.843\n",
            "==>>> epoch: 5, batch index: 2727, train loss: 0.423647\n",
            "==>>> epoch: 5, batch index: 455, test loss: 0.441543, acc: 0.847\n",
            "==>>> epoch: 6, batch index: 2727, train loss: 0.410181\n",
            "==>>> epoch: 6, batch index: 455, test loss: 0.433555, acc: 0.848\n",
            "==>>> epoch: 7, batch index: 2727, train loss: 0.398153\n",
            "==>>> epoch: 7, batch index: 455, test loss: 0.427295, acc: 0.850\n",
            "==>>> epoch: 8, batch index: 2727, train loss: 0.388474\n",
            "==>>> epoch: 8, batch index: 455, test loss: 0.422413, acc: 0.851\n",
            "==>>> epoch: 9, batch index: 2727, train loss: 0.379531\n",
            "==>>> epoch: 9, batch index: 455, test loss: 0.417728, acc: 0.853\n",
            "==>>> epoch: 10, batch index: 2727, train loss: 0.372794\n",
            "==>>> epoch: 10, batch index: 455, test loss: 0.415277, acc: 0.854\n",
            "==>>> epoch: 11, batch index: 2727, train loss: 0.365841\n",
            "==>>> epoch: 11, batch index: 455, test loss: 0.413468, acc: 0.854\n",
            "==>>> epoch: 12, batch index: 2727, train loss: 0.360228\n",
            "==>>> epoch: 12, batch index: 455, test loss: 0.409109, acc: 0.855\n",
            "==>>> epoch: 13, batch index: 2727, train loss: 0.353990\n",
            "==>>> epoch: 13, batch index: 455, test loss: 0.407888, acc: 0.855\n",
            "==>>> epoch: 14, batch index: 2727, train loss: 0.348470\n",
            "==>>> epoch: 14, batch index: 455, test loss: 0.406341, acc: 0.856\n",
            "==>>> epoch: 15, batch index: 2727, train loss: 0.343728\n",
            "==>>> epoch: 15, batch index: 455, test loss: 0.406946, acc: 0.856\n",
            "==>>> epoch: 16, batch index: 2727, train loss: 0.338967\n",
            "==>>> epoch: 16, batch index: 455, test loss: 0.405541, acc: 0.856\n",
            "==>>> epoch: 17, batch index: 2727, train loss: 0.334835\n",
            "==>>> epoch: 17, batch index: 455, test loss: 0.404492, acc: 0.857\n",
            "==>>> epoch: 18, batch index: 2727, train loss: 0.330615\n",
            "==>>> epoch: 18, batch index: 455, test loss: 0.404597, acc: 0.857\n",
            "==>>> epoch: 19, batch index: 2727, train loss: 0.326185\n",
            "==>>> epoch: 19, batch index: 455, test loss: 0.406027, acc: 0.857\n",
            "==>>> epoch: 20, batch index: 2727, train loss: 0.321926\n",
            "==>>> epoch: 20, batch index: 455, test loss: 0.406403, acc: 0.856\n",
            "==>>> epoch: 21, batch index: 2727, train loss: 0.317481\n",
            "==>>> epoch: 21, batch index: 455, test loss: 0.407591, acc: 0.856\n",
            "==>>> epoch: 22, batch index: 2727, train loss: 0.313259\n",
            "==>>> epoch: 22, batch index: 455, test loss: 0.407469, acc: 0.856\n",
            "==>>> epoch: 23, batch index: 2727, train loss: 0.309111\n",
            "==>>> epoch: 23, batch index: 455, test loss: 0.409833, acc: 0.856\n",
            "==>>> epoch: 24, batch index: 2727, train loss: 0.304936\n",
            "==>>> epoch: 24, batch index: 455, test loss: 0.410906, acc: 0.855\n"
          ],
          "name": "stdout"
        },
        {
          "output_type": "display_data",
          "data": {
            "image/png": "[encoded data removed]",
            "text/plain": [
              "<Figure size 432x288 with 1 Axes>"
            ]
          },
          "metadata": {
            "tags": [],
            "needs_background": "light"
          }
        },
        {
          "output_type": "stream",
          "text": [
            "2020-04-04 08:27:38.805245\n",
            "model:DNN, Width:(700, 500, 256), Dropout: (0.2, 0, 0), parameter:1,044,190\n",
            "----------------------------------------------------------------\n",
            "        Layer (type)               Output Shape         Param #\n",
            "================================================================\n",
            "            Linear-1                  [-1, 700]         549,500\n",
            "            Linear-2                  [-1, 500]         350,500\n",
            "            Linear-3                  [-1, 256]         128,256\n",
            "            Linear-4                   [-1, 62]          15,934\n",
            "================================================================\n",
            "Total params: 1,044,190\n",
            "Trainable params: 1,044,190\n",
            "Non-trainable params: 0\n",
            "----------------------------------------------------------------\n",
            "Input size (MB): 0.00\n",
            "Forward/backward pass size (MB): 0.01\n",
            "Params size (MB): 3.98\n",
            "Estimated Total Size (MB): 4.00\n",
            "----------------------------------------------------------------\n",
            "==>>> epoch: 0, batch index: 2727, train loss: 0.723150\n",
            "==>>> epoch: 0, batch index: 455, test loss: 0.709762, acc: 0.773\n",
            "==>>> epoch: 1, batch index: 2727, train loss: 0.597482\n",
            "==>>> epoch: 1, batch index: 455, test loss: 0.587298, acc: 0.808\n",
            "==>>> epoch: 2, batch index: 2727, train loss: 0.526788\n",
            "==>>> epoch: 2, batch index: 455, test loss: 0.540459, acc: 0.821\n",
            "==>>> epoch: 3, batch index: 2727, train loss: 0.502943\n",
            "==>>> epoch: 3, batch index: 455, test loss: 0.503732, acc: 0.829\n",
            "==>>> epoch: 4, batch index: 2727, train loss: 0.468307\n",
            "==>>> epoch: 4, batch index: 455, test loss: 0.476526, acc: 0.835\n",
            "==>>> epoch: 5, batch index: 2727, train loss: 0.456000\n",
            "==>>> epoch: 5, batch index: 455, test loss: 0.465607, acc: 0.839\n",
            "==>>> epoch: 6, batch index: 2727, train loss: 0.447984\n",
            "==>>> epoch: 6, batch index: 455, test loss: 0.454197, acc: 0.841\n",
            "==>>> epoch: 7, batch index: 2727, train loss: 0.439913\n",
            "==>>> epoch: 7, batch index: 455, test loss: 0.450973, acc: 0.843\n",
            "==>>> epoch: 8, batch index: 2727, train loss: 0.416322\n",
            "==>>> epoch: 8, batch index: 455, test loss: 0.435677, acc: 0.846\n",
            "==>>> epoch: 9, batch index: 2727, train loss: 0.411911\n",
            "==>>> epoch: 9, batch index: 455, test loss: 0.432879, acc: 0.848\n",
            "==>>> epoch: 10, batch index: 2727, train loss: 0.407760\n",
            "==>>> epoch: 10, batch index: 455, test loss: 0.436200, acc: 0.847\n",
            "==>>> epoch: 11, batch index: 2727, train loss: 0.407513\n",
            "==>>> epoch: 11, batch index: 455, test loss: 0.431983, acc: 0.849\n",
            "==>>> epoch: 12, batch index: 2727, train loss: 0.391574\n",
            "==>>> epoch: 12, batch index: 455, test loss: 0.411882, acc: 0.851\n",
            "==>>> epoch: 13, batch index: 2727, train loss: 0.389043\n",
            "==>>> epoch: 13, batch index: 455, test loss: 0.427310, acc: 0.850\n",
            "==>>> epoch: 14, batch index: 2727, train loss: 0.385864\n",
            "==>>> epoch: 14, batch index: 455, test loss: 0.418191, acc: 0.851\n",
            "==>>> epoch: 15, batch index: 2727, train loss: 0.376601\n",
            "==>>> epoch: 15, batch index: 455, test loss: 0.415856, acc: 0.851\n",
            "==>>> epoch: 16, batch index: 2727, train loss: 0.376488\n",
            "==>>> epoch: 16, batch index: 455, test loss: 0.411276, acc: 0.852\n",
            "==>>> epoch: 17, batch index: 2727, train loss: 0.375914\n",
            "==>>> epoch: 17, batch index: 455, test loss: 0.411940, acc: 0.853\n",
            "==>>> epoch: 18, batch index: 2727, train loss: 0.376312\n"
          ],
          "name": "stdout"
        }
      ]
    },
    {
      "cell_type": "markdown",
      "metadata": {
        "colab_type": "text",
        "id": "fyANcMBjstan"
      },
      "source": [
        "model:DNN, Width:700, Dropout: 0, batch_normalization: False, parameter:746,802\n",
        "\n",
        "==>>> epoch: 16, batch index: 909, test loss: 0.390396, acc: 0.858"
      ]
    },
    {
      "cell_type": "code",
      "metadata": {
        "colab_type": "code",
        "id": "_9umS6l0VI-I",
        "colab": {}
      },
      "source": [
        "2020-03-31 11:03:30.496378\n",
        "model:Baseline Net, parameter:536,690\n",
        "==>>> epoch: 0, batch index: 5453, train loss: 0.609612\n",
        "==>>> epoch: 0, batch index: 909, test loss: 0.585146, acc: 0.809\n",
        "==>>> epoch: 1, batch index: 5453, train loss: 0.540112\n",
        "==>>> epoch: 1, batch index: 909, test loss: 0.493715, acc: 0.827\n",
        "==>>> epoch: 2, batch index: 5453, train loss: 0.454728\n",
        "==>>> epoch: 2, batch index: 909, test loss: 0.459707, acc: 0.839\n",
        "==>>> epoch: 3, batch index: 5453, train loss: 0.453971\n",
        "==>>> epoch: 3, batch index: 909, test loss: 0.450110, acc: 0.843\n",
        "==>>> epoch: 4, batch index: 5453, train loss: 0.449814\n",
        "==>>> epoch: 4, batch index: 909, test loss: 0.446976, acc: 0.844\n",
        "==>>> epoch: 5, batch index: 5453, train loss: 0.424157\n",
        "==>>> epoch: 5, batch index: 909, test loss: 0.423205, acc: 0.847\n",
        "==>>> epoch: 6, batch index: 5453, train loss: 0.400469\n",
        "==>>> epoch: 6, batch index: 909, test loss: 0.418983, acc: 0.850\n",
        "==>>> epoch: 7, batch index: 5453, train loss: 0.387716\n",
        "==>>> epoch: 7, batch index: 909, test loss: 0.417940, acc: 0.852\n",
        "==>>> epoch: 8, batch index: 5453, train loss: 0.356984\n",
        "==>>> epoch: 8, batch index: 909, test loss: 0.400661, acc: 0.854\n",
        "==>>> epoch: 9, batch index: 5453, train loss: 0.410329\n",
        "==>>> epoch: 9, batch index: 909, test loss: 0.411788, acc: 0.852\n"
      ],
      "execution_count": 0,
      "outputs": []
    },
    {
      "cell_type": "code",
      "metadata": {
        "id": "1XKNle_sU82x",
        "colab_type": "code",
        "colab": {}
      },
      "source": [
        ""
      ],
      "execution_count": 0,
      "outputs": []
    }
  ]
}