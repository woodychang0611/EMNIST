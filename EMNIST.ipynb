{
  "nbformat": 4,
  "nbformat_minor": 0,
  "metadata": {
    "colab": {
      "name": "EMNIST.ipynb",
      "provenance": [],
      "collapsed_sections": [],
      "toc_visible": true,
      "authorship_tag": "ABX9TyPLpFUV26DB20bkoPuFZqGF",
      "include_colab_link": true
    },
    "kernelspec": {
      "name": "python3",
      "display_name": "Python 3"
    },
    "accelerator": "GPU"
  },
  "cells": [
    {
      "cell_type": "markdown",
      "metadata": {
        "id": "view-in-github",
        "colab_type": "text"
      },
      "source": [
        "<a href=\"https://colab.research.google.com/github/woodychang0611/EMNIST/blob/master/EMNIST.ipynb\" target=\"_parent\"><img src=\"https://colab.research.google.com/assets/colab-badge.svg\" alt=\"Open In Colab\"/></a>"
      ]
    },
    {
      "cell_type": "markdown",
      "metadata": {
        "id": "M6xodRU-A_GV",
        "colab_type": "text"
      },
      "source": [
        "# Prepare Environment\n",
        "If running on colab mount google drive, otherwise use 200g drive from NCCU GPU cloud"
      ]
    },
    {
      "cell_type": "code",
      "metadata": {
        "id": "AqMs0yceAxaw",
        "colab_type": "code",
        "outputId": "dcc0fd2c-d954-46f2-f873-9e250ea07662",
        "colab": {
          "base_uri": "https://localhost:8080/",
          "height": 34
        }
      },
      "source": [
        "import sys\n",
        "import os\n",
        "if ('google.colab' in sys.modules):\n",
        "  from google.colab import drive\n",
        "  drive.mount('/content/gdrive')\n",
        "  gdrive_root = 'gdrive/My Drive/Deep_Learning/'\n",
        "  dataset_path = os.path.join(gdrive_root,'Dataset')\n",
        "else:\n",
        "  dataset_path = '200g/Dataset'\n",
        "  pass\n",
        "\n",
        "if not os.path.exists(dataset_path):\n",
        "  raise Exception(f'dataset_path \"{dataset_path}\"\" does not exist')\n"
      ],
      "execution_count": 0,
      "outputs": [
        {
          "output_type": "stream",
          "text": [
            "Drive already mounted at /content/gdrive; to attempt to forcibly remount, call drive.mount(\"/content/gdrive\", force_remount=True).\n"
          ],
          "name": "stdout"
        }
      ]
    },
    {
      "cell_type": "markdown",
      "metadata": {
        "id": "xOQv68AZC_M4",
        "colab_type": "text"
      },
      "source": [
        "# Load Dataset"
      ]
    },
    {
      "cell_type": "code",
      "metadata": {
        "id": "MZ9n-431460N",
        "colab_type": "code",
        "outputId": "4283d310-e9e1-44a7-fdaa-698dcb0c3f39",
        "colab": {
          "base_uri": "https://localhost:8080/",
          "height": 50
        }
      },
      "source": [
        "import torch\n",
        "from torch import nn\n",
        "import torch.nn.functional as F\n",
        "import torch.optim\n",
        "import torch.autograd\n",
        "import torchvision\n",
        "import torchvision.transforms\n",
        "import numpy as np\n",
        "from matplotlib import pyplot as plt\n",
        "import datetime\n",
        "\n",
        "trans = torchvision.transforms.Compose([torchvision.transforms.ToTensor(), torchvision.transforms.Normalize((0.5,), (1.0,))])\n",
        "use_cuda = None\n",
        "if torch.cuda.is_available():\n",
        "  print(\"CUDA available\")\n",
        "  use_cuda = True\n",
        "else:\n",
        "  print (\"CUDA not available\")\n",
        "  use_cuda = False\n",
        "if os.path.exists(dataset_path):\n",
        "  train_set = torchvision.datasets.EMNIST(root=dataset_path, transform=trans,train =True, split=\"byclass\",download=True)\n",
        "  test_set = torchvision.datasets.EMNIST(root=dataset_path, transform=trans,split=\"byclass\", train =False)\n",
        "  print (f'Dataset loaded, {train_set.__len__():,} training set, {test_set.__len__():,} testing set')\n",
        "else:\n",
        "  print (f'dataset_path \"{dataset_path}\" not found')\n",
        "  exit(0)\n",
        "\n",
        "batch_size = 128\n",
        "\n",
        "train_loader = torch.utils.data.DataLoader(\n",
        "                 dataset=train_set,\n",
        "                 batch_size=batch_size,\n",
        "                 shuffle=True)\n",
        "test_loader = torch.utils.data.DataLoader(\n",
        "                dataset=test_set,\n",
        "                batch_size=batch_size,\n",
        "                shuffle=False)\n"
      ],
      "execution_count": 0,
      "outputs": [
        {
          "output_type": "stream",
          "text": [
            "CUDA available\n",
            "Dataset loaded, 697,932 training set, 116,323 testing set\n"
          ],
          "name": "stdout"
        }
      ]
    },
    {
      "cell_type": "markdown",
      "metadata": {
        "id": "gIKW9C5mbBXs",
        "colab_type": "text"
      },
      "source": [
        "# Common Functions"
      ]
    },
    {
      "cell_type": "code",
      "metadata": {
        "id": "hXFaOXpTbDsr",
        "colab_type": "code",
        "colab": {}
      },
      "source": [
        "ceriation = nn.CrossEntropyLoss()\n",
        "def apply_model(model,x,target):\n",
        "    x, target = torch.autograd.Variable(x), torch.autograd.Variable(target)\n",
        "    out = model(x)\n",
        "    loss = torch.nn.CrossEntropyLoss()(out, target)\n",
        "    return out,loss\n",
        "def plot_graph(name,train_loss,test_loss):\n",
        "  fig, ax = plt.subplots()\n",
        "  ax.plot(train_loss,label='train loss')\n",
        "  ax.plot(test_loss,label='test loss')  \n",
        "  ax.set(xlabel='epoch', ylabel='Loss',title=name)\n",
        "  plt.legend()\n",
        "  plt.show()\n"
      ],
      "execution_count": 0,
      "outputs": []
    },
    {
      "cell_type": "markdown",
      "metadata": {
        "id": "ojpFdoTxa3WU",
        "colab_type": "text"
      },
      "source": [
        "# Define CNN"
      ]
    },
    {
      "cell_type": "code",
      "metadata": {
        "id": "VD_XLlL2-keO",
        "colab_type": "code",
        "colab": {}
      },
      "source": [
        "#CNN\n",
        "class ConvolutioNeuralNetwork (torch.nn.Module):\n",
        "    def __init__(self,dropout=0):\n",
        "        super(ConvolutioNeuralNetwork, self).__init__()\n",
        "        self.conv1 = nn.Conv2d(1, 20, 5, 1)\n",
        "        self.conv2 = nn.Conv2d(20, 50, 5, 1)\n",
        "        self.fc1 = nn.Linear(4*4*50, 500)\n",
        "        self.fc2 = nn.Linear(500, 100)\n",
        "        self.fc3 = nn.Linear(100, 62)\n",
        "        self.dropout=dropout\n",
        "    def forward(self, x):      \n",
        "        x = F.relu(self.conv1(x))\n",
        "        x = F.max_pool2d(x, 2, 2)\n",
        "        x = F.relu(self.conv2(x))\n",
        "        x = F.dropout(x,p = self.dropout)\n",
        "        x = F.max_pool2d(x, 2, 2)\n",
        "        x = x.view(-1, 4*4*50)\n",
        "        x = F.dropout(x,p = self.dropout)\n",
        "        x = F.relu(self.fc1(x))     \n",
        "        x = F.relu(self.fc2(x))\n",
        "        x = F.dropout(x,p = self.dropout)\n",
        "        x = self.fc3(x)\n",
        "        return x"
      ],
      "execution_count": 0,
      "outputs": []
    },
    {
      "cell_type": "code",
      "metadata": {
        "id": "ceS6a8HGuFjp",
        "colab_type": "code",
        "outputId": "7823fd3c-1d75-4f07-fe50-8f0c59da3f9e",
        "colab": {
          "base_uri": "https://localhost:8080/",
          "height": 1000
        }
      },
      "source": [
        "models = tuple (map(lambda p:(f\"Dropout Rate:{p:.2f}\", ConvolutioNeuralNetwork(dropout=p)),(0.2,)))\n",
        "sample_limit = 100000000\n",
        "for (name, model) in models:\n",
        "  print(datetime.datetime.now())\n",
        "  optimizer = torch.optim.SGD(model.parameters(), lr=0.01, momentum=0.9)\n",
        "  parameter_len = sum(p.numel() for p in model.parameters() if p.requires_grad)\n",
        "  print(f'model:{name}, parameter:{parameter_len:,}')\n",
        "  train_loss=[]\n",
        "  test_loss=[]\n",
        "  if use_cuda:\n",
        "    model.cuda()\n",
        "  for epoch in range(30):\n",
        "    # training\n",
        "    ave_loss = 0\n",
        "    for batch_idx, (x, target) in enumerate(train_loader):\n",
        "        optimizer.zero_grad()\n",
        "        if use_cuda:\n",
        "            x, target = x.cuda(), target.cuda()\n",
        "        out,loss = apply_model (model,x,target)\n",
        "        ave_loss = ave_loss * 0.9 + loss.data* 0.1\n",
        "        loss.backward()\n",
        "        optimizer.step()\n",
        "        if (batch_idx+1) == len(train_loader) or batch_idx >sample_limit:\n",
        "            print (f'==>>> epoch: {epoch}, batch index: {batch_idx+1}, train loss: {ave_loss:.6f}')\n",
        "            break\n",
        "    train_loss.append(ave_loss)\n",
        "    # testing\n",
        "    correct_cnt, ave_loss = 0, 0\n",
        "    total_cnt = 0\n",
        "    for batch_idx, (x, target) in enumerate(test_loader):\n",
        "        if use_cuda:\n",
        "          x, target = x.cuda(), target.cuda()      \n",
        "        out,loss = apply_model (model,x,target)        \n",
        "        _, pred_label = torch.max(out.data, 1)\n",
        "        total_cnt += x.data.size()[0]\n",
        "        correct_cnt += (pred_label == target.data).sum()\n",
        "        # smooth average\n",
        "        ave_loss = ave_loss * 0.9 + loss.data * 0.1\n",
        "        if (batch_idx) == len(test_loader)-1 or batch_idx >sample_limit:\n",
        "            print (f'==>>> epoch: {epoch}, batch index: {batch_idx+1}, test loss: {ave_loss:.6f}, acc: {correct_cnt * 1.0 / total_cnt:.3f}')\n",
        "            break\n",
        "    test_loss.append(ave_loss)\n",
        "  plot_graph(name,train_loss,test_loss)    "
      ],
      "execution_count": 0,
      "outputs": [
        {
          "output_type": "stream",
          "text": [
            "2020-03-29 13:32:47.312129\n",
            "model:Dropout Rate:0.20, parameter:482,432\n",
            "==>>> epoch: 0, batch index: 5453, train loss: 0.479508\n",
            "==>>> epoch: 0, batch index: 909, test loss: 0.475563, acc: 0.828\n",
            "==>>> epoch: 1, batch index: 5453, train loss: 0.441738\n",
            "==>>> epoch: 1, batch index: 909, test loss: 0.429996, acc: 0.843\n",
            "==>>> epoch: 2, batch index: 5453, train loss: 0.435806\n",
            "==>>> epoch: 2, batch index: 909, test loss: 0.411873, acc: 0.852\n",
            "==>>> epoch: 3, batch index: 5453, train loss: 0.400857\n",
            "==>>> epoch: 3, batch index: 909, test loss: 0.404877, acc: 0.854\n",
            "==>>> epoch: 4, batch index: 5453, train loss: 0.408870\n",
            "==>>> epoch: 4, batch index: 909, test loss: 0.398082, acc: 0.855\n",
            "==>>> epoch: 5, batch index: 5453, train loss: 0.363713\n",
            "==>>> epoch: 5, batch index: 909, test loss: 0.391856, acc: 0.859\n",
            "==>>> epoch: 6, batch index: 5453, train loss: 0.398321\n",
            "==>>> epoch: 6, batch index: 909, test loss: 0.387562, acc: 0.861\n",
            "==>>> epoch: 7, batch index: 5453, train loss: 0.380082\n",
            "==>>> epoch: 7, batch index: 909, test loss: 0.383090, acc: 0.860\n",
            "==>>> epoch: 8, batch index: 5453, train loss: 0.354073\n",
            "==>>> epoch: 8, batch index: 909, test loss: 0.387260, acc: 0.861\n",
            "==>>> epoch: 9, batch index: 5453, train loss: 0.348735\n",
            "==>>> epoch: 9, batch index: 909, test loss: 0.368490, acc: 0.862\n",
            "==>>> epoch: 10, batch index: 5453, train loss: 0.360177\n",
            "==>>> epoch: 10, batch index: 909, test loss: 0.371671, acc: 0.863\n",
            "==>>> epoch: 11, batch index: 5453, train loss: 0.331614\n",
            "==>>> epoch: 11, batch index: 909, test loss: 0.383438, acc: 0.861\n",
            "==>>> epoch: 12, batch index: 5453, train loss: 0.316426\n",
            "==>>> epoch: 12, batch index: 909, test loss: 0.378238, acc: 0.862\n",
            "==>>> epoch: 13, batch index: 5453, train loss: 0.324689\n",
            "==>>> epoch: 13, batch index: 909, test loss: 0.379502, acc: 0.865\n",
            "==>>> epoch: 14, batch index: 5453, train loss: 0.330560\n",
            "==>>> epoch: 14, batch index: 909, test loss: 0.372559, acc: 0.866\n",
            "==>>> epoch: 15, batch index: 5453, train loss: 0.330738\n",
            "==>>> epoch: 15, batch index: 909, test loss: 0.368904, acc: 0.865\n",
            "==>>> epoch: 16, batch index: 5453, train loss: 0.331642\n",
            "==>>> epoch: 16, batch index: 909, test loss: 0.387043, acc: 0.865\n",
            "==>>> epoch: 17, batch index: 5453, train loss: 0.339627\n",
            "==>>> epoch: 17, batch index: 909, test loss: 0.376884, acc: 0.866\n",
            "==>>> epoch: 18, batch index: 5453, train loss: 0.356639\n",
            "==>>> epoch: 18, batch index: 909, test loss: 0.378635, acc: 0.865\n",
            "==>>> epoch: 19, batch index: 5453, train loss: 0.330438\n",
            "==>>> epoch: 19, batch index: 909, test loss: 0.371285, acc: 0.866\n",
            "==>>> epoch: 20, batch index: 5453, train loss: 0.320819\n",
            "==>>> epoch: 20, batch index: 909, test loss: 0.372199, acc: 0.866\n",
            "==>>> epoch: 21, batch index: 5453, train loss: 0.331696\n",
            "==>>> epoch: 21, batch index: 909, test loss: 0.381880, acc: 0.866\n",
            "==>>> epoch: 22, batch index: 5453, train loss: 0.319376\n",
            "==>>> epoch: 22, batch index: 909, test loss: 0.374321, acc: 0.866\n",
            "==>>> epoch: 23, batch index: 5453, train loss: 0.325036\n",
            "==>>> epoch: 23, batch index: 909, test loss: 0.375860, acc: 0.865\n",
            "==>>> epoch: 24, batch index: 5453, train loss: 0.349472\n",
            "==>>> epoch: 24, batch index: 909, test loss: 0.377735, acc: 0.865\n",
            "==>>> epoch: 25, batch index: 5453, train loss: 0.309162\n",
            "==>>> epoch: 25, batch index: 909, test loss: 0.375792, acc: 0.867\n",
            "==>>> epoch: 26, batch index: 5453, train loss: 0.347824\n",
            "==>>> epoch: 26, batch index: 909, test loss: 0.364406, acc: 0.866\n",
            "==>>> epoch: 27, batch index: 5453, train loss: 0.304164\n",
            "==>>> epoch: 27, batch index: 909, test loss: 0.385385, acc: 0.868\n",
            "==>>> epoch: 28, batch index: 5453, train loss: 0.296753\n",
            "==>>> epoch: 28, batch index: 909, test loss: 0.362839, acc: 0.865\n",
            "==>>> epoch: 29, batch index: 5453, train loss: 0.336537\n",
            "==>>> epoch: 29, batch index: 909, test loss: 0.370992, acc: 0.866\n"
          ],
          "name": "stdout"
        },
        {
          "output_type": "display_data",
          "data": {
            "image/png": "[encoded data removed]",
            "text/plain": [
              "<Figure size 432x288 with 1 Axes>"
            ]
          },
          "metadata": {
            "tags": []
          }
        }
      ]
    },
    {
      "cell_type": "code",
      "metadata": {
        "id": "8U35Da7i-vCb",
        "colab_type": "code",
        "colab": {}
      },
      "source": [
        "\n"
      ],
      "execution_count": 0,
      "outputs": []
    }
  ]
}