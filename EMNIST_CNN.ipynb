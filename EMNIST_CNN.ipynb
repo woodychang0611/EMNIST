{
  "nbformat": 4,
  "nbformat_minor": 0,
  "metadata": {
    "accelerator": "GPU",
    "colab": {
      "name": "EMNIST_CNN.ipynb",
      "provenance": [],
      "collapsed_sections": [],
      "toc_visible": true,
      "machine_shape": "hm",
      "include_colab_link": true
    },
    "kernelspec": {
      "display_name": "Python 3",
      "language": "python",
      "name": "python3"
    },
    "language_info": {
      "codemirror_mode": {
        "name": "ipython",
        "version": 3
      },
      "file_extension": ".py",
      "mimetype": "text/x-python",
      "name": "python",
      "nbconvert_exporter": "python",
      "pygments_lexer": "ipython3",
      "version": "3.6.9"
    }
  },
  "cells": [
    {
      "cell_type": "markdown",
      "metadata": {
        "id": "view-in-github",
        "colab_type": "text"
      },
      "source": [
        "<a href=\"https://colab.research.google.com/github/woodychang0611/EMNIST/blob/master/EMNIST_CNN.ipynb\" target=\"_parent\"><img src=\"https://colab.research.google.com/assets/colab-badge.svg\" alt=\"Open In Colab\"/></a>"
      ]
    },
    {
      "cell_type": "markdown",
      "metadata": {
        "colab_type": "text",
        "id": "M6xodRU-A_GV"
      },
      "source": [
        "# Prepare Environment\n",
        "If running on colab mount google drive, otherwise use 200g drive from NCCU GPU cloud"
      ]
    },
    {
      "cell_type": "code",
      "metadata": {
        "colab_type": "code",
        "id": "AqMs0yceAxaw",
        "colab": {
          "base_uri": "https://localhost:8080/",
          "height": 124
        },
        "outputId": "8e0165f3-d128-4b06-90e5-0bd6a40091ee"
      },
      "source": [
        "import sys\n",
        "import os\n",
        "from PIL import Image\n",
        "if ('google.colab' in sys.modules):\n",
        "  from google.colab import drive\n",
        "  drive.mount('/content/gdrive')\n",
        "  gdrive_root = 'gdrive/My Drive/Deep_Learning/'\n",
        "  dataset_path = os.path.join(gdrive_root,'Dataset')\n",
        "else:\n",
        "  dataset_path = '200g/Dataset'\n",
        "  pass\n",
        "\n",
        "if not os.path.exists(dataset_path):\n",
        "  raise Exception(f'dataset_path \"{dataset_path}\"\" does not exist')\n"
      ],
      "execution_count": 1,
      "outputs": [
        {
          "output_type": "stream",
          "text": [
            "Go to this URL in a browser: https://accounts.google.com/o/oauth2/auth?client_id=947318989803-6bn6qk8qdgf4n4g3pfee6491hc0brc4i.apps.googleusercontent.com&redirect_uri=urn%3aietf%3awg%3aoauth%3a2.0%3aoob&response_type=code&scope=email%20https%3a%2f%2fwww.googleapis.com%2fauth%2fdocs.test%20https%3a%2f%2fwww.googleapis.com%2fauth%2fdrive%20https%3a%2f%2fwww.googleapis.com%2fauth%2fdrive.photos.readonly%20https%3a%2f%2fwww.googleapis.com%2fauth%2fpeopleapi.readonly\n",
            "\n",
            "Enter your authorization code:\n",
            "··········\n",
            "Mounted at /content/gdrive\n"
          ],
          "name": "stdout"
        }
      ]
    },
    {
      "cell_type": "markdown",
      "metadata": {
        "colab_type": "text",
        "id": "xOQv68AZC_M4"
      },
      "source": [
        "# Load Dataset"
      ]
    },
    {
      "cell_type": "code",
      "metadata": {
        "colab_type": "code",
        "id": "MZ9n-431460N",
        "colab": {
          "base_uri": "https://localhost:8080/",
          "height": 87
        },
        "outputId": "df6afc4f-47e6-49ed-f01b-8a042e381912"
      },
      "source": [
        "import torch\n",
        "from torch import nn\n",
        "import torch.nn.functional as F\n",
        "import torch.optim\n",
        "import torch.autograd\n",
        "import torchvision\n",
        "import torchvision.transforms\n",
        "import numpy as np\n",
        "from matplotlib import pyplot as plt\n",
        "from torchsummary import summary\n",
        "import datetime\n",
        "\n",
        "trans = torchvision.transforms.Compose([torchvision.transforms.ToTensor(), torchvision.transforms.Normalize((0.5,), (1.0,))])\n",
        "trans_augmentation = torchvision.transforms.Compose([torchvision.transforms.RandomRotation(10, fill=(0,)),torchvision.transforms.ToTensor(), torchvision.transforms.Normalize((0.5,), (1.0,))])\n",
        "use_cuda = None\n",
        "if torch.cuda.is_available():\n",
        "  print(\"CUDA available\")\n",
        "  use_cuda = True\n",
        "else:\n",
        "  print (\"CUDA not available\")\n",
        "  use_cuda = False\n",
        "if os.path.exists(dataset_path):\n",
        "  train_set = torchvision.datasets.EMNIST(root=dataset_path, transform=trans,train =True, split=\"byclass\",download=True)\n",
        "  train_set_augmentation = torchvision.datasets.EMNIST(root=dataset_path, transform=trans_augmentation,train =True, split=\"byclass\",download=True)\n",
        "  test_set = torchvision.datasets.EMNIST(root=dataset_path, transform=trans,split=\"byclass\", train =False)\n",
        "  print (f'Dataset loaded, {train_set.__len__():,} training set, {test_set.__len__():,} testing set')\n",
        "else:\n",
        "  print (f'dataset_path \"{dataset_path}\" not found')\n",
        "  exit(0)\n",
        "\n",
        "batch_size = 256\n",
        "\n",
        "train_loader = torch.utils.data.DataLoader(\n",
        "                 dataset=train_set,\n",
        "                 batch_size=batch_size,\n",
        "                 shuffle=True)\n",
        "\n",
        "train_loader_augmentation  = torch.utils.data.DataLoader(\n",
        "                 dataset=train_set_augmentation,\n",
        "                 batch_size=batch_size,\n",
        "                 shuffle=True)\n",
        "\n",
        "test_loader = torch.utils.data.DataLoader(\n",
        "                dataset=test_set,\n",
        "                batch_size=batch_size,\n",
        "                shuffle=False)\n",
        "print(\"load train_loader\")\n",
        "preload_train_data = list(enumerate(train_loader))\n",
        "preload_train_data_argumentation = list(preload_train_data) + list(enumerate(train_loader_augmentation))\n",
        "print(\"load test_loader\")\n",
        "preload_test_data = list(enumerate(test_loader))"
      ],
      "execution_count": 2,
      "outputs": [
        {
          "output_type": "stream",
          "text": [
            "CUDA available\n",
            "Dataset loaded, 697,932 training set, 116,323 testing set\n",
            "load train_loader\n",
            "load test_loader\n"
          ],
          "name": "stdout"
        }
      ]
    },
    {
      "cell_type": "markdown",
      "metadata": {
        "colab_type": "text",
        "id": "gIKW9C5mbBXs"
      },
      "source": [
        "# Common Functions"
      ]
    },
    {
      "cell_type": "code",
      "metadata": {
        "colab_type": "code",
        "id": "hXFaOXpTbDsr",
        "colab": {}
      },
      "source": [
        "ceriation = nn.CrossEntropyLoss()\n",
        "def apply_model(model,x,target):\n",
        "    x, target = torch.autograd.Variable(x), torch.autograd.Variable(target)\n",
        "    out = model(x)\n",
        "    loss = torch.nn.CrossEntropyLoss()(out, target)\n",
        "    return out,loss\n",
        "def plot_graph(name,train_loss,test_loss,acc_result):\n",
        "  fig, ax = plt.subplots()\n",
        "  ax.plot(train_loss,label='train loss')\n",
        "  ax.plot(test_loss,label='test loss')  \n",
        "  ax.plot(acc_result,label='accuracy')\n",
        "  best_accuracy = np.amax(acc_result)\n",
        "  best_epoch = np.argmax(acc_result)\n",
        "  ax.annotate(f\"\\nBest Accuracy:{best_acc:.5f} at epoch {best_epoch}\", \n",
        "              xy=(best_epoch, best_accuracy),\n",
        "              color=\"blue\",\n",
        "              xytext=(0.2*len(acc_result), best_accuracy-0.2),\n",
        "              arrowprops=dict(facecolor='blue', shrink=0.05),\n",
        "              )\n",
        "  ax.set(xlabel='epoch', ylabel='Loss',title=name)\n",
        "  plt.legend()\n",
        "  plt.show()\n"
      ],
      "execution_count": 0,
      "outputs": []
    },
    {
      "cell_type": "markdown",
      "metadata": {
        "colab_type": "text",
        "id": "ojpFdoTxa3WU"
      },
      "source": [
        "# Define CNN"
      ]
    },
    {
      "cell_type": "code",
      "metadata": {
        "colab_type": "code",
        "id": "VD_XLlL2-keO",
        "colab": {}
      },
      "source": [
        "#CNN\n",
        "class ConvolutioNeuralNetwork (torch.nn.Module):\n",
        "    def __init__(self,dropout=0,batch_norm=False):\n",
        "        super(ConvolutioNeuralNetwork, self).__init__()\n",
        "        self.conv1 = nn.Conv2d(1, 20, 5, 1)\n",
        "        self.conv1_bn = nn.BatchNorm2d(20)\n",
        "        self.conv2 = nn.Conv2d(20, 50, 5, 1)\n",
        "        self.conv2_bn = nn.BatchNorm2d(50)\n",
        "        self.fc1 = nn.Linear(4*4*50, 500)\n",
        "        self.fc2 = nn.Linear(500, 500)\n",
        "        self.final = nn.Linear(500, 62)\n",
        "        self.dropout=dropout\n",
        "        self.batch_norm = batch_norm\n",
        "    def forward(self, x):\n",
        "        x = F.dropout(x,p = self.dropout)\n",
        "        x = F.relu(self.conv1(x))\n",
        "        if self.batch_norm:\n",
        "            x = self.conv1_bn(x)\n",
        "        x = F.max_pool2d(x, 2, 2)\n",
        "        x = F.dropout(x,p = self.dropout)        \n",
        "        x = F.relu(self.conv2(x))\n",
        "        if self.batch_norm:\n",
        "            x = self.conv2_bn(x)\n",
        "        x = F.max_pool2d(x, 2, 2)\n",
        "        x = x.view(-1, 4*4*50)\n",
        "        x = F.relu(self.fc1(x))     \n",
        "        x = F.relu(self.fc2(x))\n",
        "        x = self.final(x)\n",
        "        return x\n",
        "    @property\n",
        "    def name(self):\n",
        "        return f\"CNN, Dropout: {self.dropout}, Batch Normalization: {self.batch_norm}\"    "
      ],
      "execution_count": 0,
      "outputs": []
    },
    {
      "cell_type": "code",
      "metadata": {
        "colab_type": "code",
        "id": "ceS6a8HGuFjp",
        "colab": {
          "base_uri": "https://localhost:8080/",
          "height": 1000
        },
        "outputId": "7fe02991-5221-4908-c5bf-cd7e2ec62aab"
      },
      "source": [
        "models = (\n",
        "    ConvolutioNeuralNetwork(dropout = 0,batch_norm=False),\n",
        "    ConvolutioNeuralNetwork(dropout = 0.1,batch_norm=False),    \n",
        "    ConvolutioNeuralNetwork(dropout = 0.1,batch_norm=True),\n",
        "    ConvolutioNeuralNetwork(dropout = 0.2,batch_norm=False),    \n",
        "    ConvolutioNeuralNetwork(dropout = 0.2,batch_norm=True),     \n",
        "    ConvolutioNeuralNetwork(dropout = 0.3,batch_norm=True),    \n",
        "    ConvolutioNeuralNetwork(dropout = 0.4,batch_norm=True)     \n",
        ")\n",
        "train_data_list = (\n",
        "    (\"original\", preload_train_data),\n",
        "    (\"argumentation\",preload_train_data_argumentation)\n",
        ")\n",
        "sample_limit = 1000000\n",
        "for model in models:\n",
        "  for train_data_name,train_data in train_data_list:\n",
        "    print(datetime.datetime.now())\n",
        "    optimizer = torch.optim.SGD(model.parameters(), lr=0.003, momentum=0.9)\n",
        "    name = f'{model.name} {train_data_name}' \n",
        "    print(f'{name}')\n",
        "    train_loss=[]\n",
        "    test_loss=[]\n",
        "    acc_result=[]  \n",
        "    if use_cuda:\n",
        "      model.cuda()\n",
        "    model.to(torch.device(\"cuda\"))\n",
        "    summary(model,(1,28,28))\n",
        "    best_acc = 0\n",
        "    for epoch in range(20):\n",
        "      # training\n",
        "      ave_loss = 0\n",
        "      for batch_idx, (x, target) in train_data:\n",
        "          optimizer.zero_grad()\n",
        "          if use_cuda:\n",
        "              x, target = x.cuda(), target.cuda()\n",
        "          out,loss = apply_model (model,x,target)\n",
        "          ave_loss = ave_loss * 0.9 + loss.data* 0.1\n",
        "          loss.backward()\n",
        "          optimizer.step()\n",
        "          if (batch_idx+1) == len(train_loader) or batch_idx >sample_limit:\n",
        "              #print (f'==>>> epoch: {epoch}, batch index: {batch_idx+1}, train loss: {ave_loss:.6f}')\n",
        "              break\n",
        "      train_loss.append(ave_loss)\n",
        "      # testing\n",
        "      correct_cnt, ave_loss = 0, 0\n",
        "      total_cnt = 0\n",
        "      for batch_idx, (x, target) in preload_test_data:\n",
        "          if use_cuda:\n",
        "            x, target = x.cuda(), target.cuda()      \n",
        "          out,loss = apply_model (model,x,target)        \n",
        "          _, pred_label = torch.max(out.data, 1)\n",
        "          total_cnt += x.data.size()[0]\n",
        "          correct_cnt += (pred_label == target.data).sum()\n",
        "          # smooth average\n",
        "          ave_loss = ave_loss * 0.9 + loss.data * 0.1\n",
        "          if (batch_idx) == len(test_loader)-1 or batch_idx >sample_limit:\n",
        "              #print (f'==>>> epoch: {epoch}, batch index: {batch_idx+1}, test loss: {ave_loss:.6f}, acc: {correct_cnt * 1.0 / total_cnt:.3f}')\n",
        "              break\n",
        "      acc = correct_cnt * 1.0 / total_cnt\n",
        "      print(f'{epoch}:{acc:.5f}', end=',')\n",
        "      if (acc > best_acc):\n",
        "        best_acc = acc\n",
        "        best_epoch = epoch\n",
        "      test_loss.append(ave_loss)\n",
        "      acc_result.append(acc)\n",
        "    print (f\"\\nBest Accuracy:{best_acc} at epoch {best_epoch}\")  \n",
        "    plot_graph(name,train_loss,test_loss,acc_result)\n",
        "print(\"done\")"
      ],
      "execution_count": 5,
      "outputs": [
        {
          "output_type": "stream",
          "text": [
            "2020-04-11 02:58:23.953116\n",
            "CNN, Dropout: 0, Batch Normalization: False original\n",
            "----------------------------------------------------------------\n",
            "        Layer (type)               Output Shape         Param #\n",
            "================================================================\n",
            "            Conv2d-1           [-1, 20, 24, 24]             520\n",
            "            Conv2d-2             [-1, 50, 8, 8]          25,050\n",
            "            Linear-3                  [-1, 500]         400,500\n",
            "            Linear-4                  [-1, 500]         250,500\n",
            "            Linear-5                   [-1, 62]          31,062\n",
            "================================================================\n",
            "Total params: 707,632\n",
            "Trainable params: 707,632\n",
            "Non-trainable params: 0\n",
            "----------------------------------------------------------------\n",
            "Input size (MB): 0.00\n",
            "Forward/backward pass size (MB): 0.12\n",
            "Params size (MB): 2.70\n",
            "Estimated Total Size (MB): 2.82\n",
            "----------------------------------------------------------------\n",
            "0:0.80638,1:0.83284,2:0.84189,3:0.84693,4:0.85076,5:0.85278,6:0.85471,7:0.85637,8:0.85721,9:0.85804,10:0.85909,11:0.85972,12:0.86002,13:0.86026,14:0.86078,15:0.86073,16:0.86073,17:0.86065,18:0.86084,19:0.86051,\n",
            "Best Accuracy:0.8608357906341553 at epoch 18\n"
          ],
          "name": "stdout"
        },
        {
          "output_type": "display_data",
          "data": {
            "image/png": "[encoded data removed]",
            "text/plain": [
              "<Figure size 432x288 with 1 Axes>"
            ]
          },
          "metadata": {
            "tags": [],
            "needs_background": "light"
          }
        },
        {
          "output_type": "stream",
          "text": [
            "2020-04-11 03:03:27.804393\n",
            "CNN, Dropout: 0, Batch Normalization: False argumentation\n",
            "----------------------------------------------------------------\n",
            "        Layer (type)               Output Shape         Param #\n",
            "================================================================\n",
            "            Conv2d-1           [-1, 20, 24, 24]             520\n",
            "            Conv2d-2             [-1, 50, 8, 8]          25,050\n",
            "            Linear-3                  [-1, 500]         400,500\n",
            "            Linear-4                  [-1, 500]         250,500\n",
            "            Linear-5                   [-1, 62]          31,062\n",
            "================================================================\n",
            "Total params: 707,632\n",
            "Trainable params: 707,632\n",
            "Non-trainable params: 0\n",
            "----------------------------------------------------------------\n",
            "Input size (MB): 0.00\n",
            "Forward/backward pass size (MB): 0.12\n",
            "Params size (MB): 2.70\n",
            "Estimated Total Size (MB): 2.82\n",
            "----------------------------------------------------------------\n",
            "0:0.86039,1:0.86047,2:0.86053,3:0.86015,4:0.85989,5:0.85943,6:0.85920,7:0.85857,8:0.85839,9:0.85785,10:0.85759,11:0.85711,12:0.85682,13:0.85580,14:0.85539,15:0.85553,16:0.85465,17:0.85327,18:0.85317,19:0.85257,\n",
            "Best Accuracy:0.8605349063873291 at epoch 2\n"
          ],
          "name": "stdout"
        },
        {
          "output_type": "display_data",
          "data": {
            "image/png": "[encoded data removed]",
            "text/plain": [
              "<Figure size 432x288 with 1 Axes>"
            ]
          },
          "metadata": {
            "tags": [],
            "needs_background": "light"
          }
        },
        {
          "output_type": "stream",
          "text": [
            "2020-04-11 03:08:21.889880\n",
            "CNN, Dropout: 0.1, Batch Normalization: False original\n",
            "----------------------------------------------------------------\n",
            "        Layer (type)               Output Shape         Param #\n",
            "================================================================\n",
            "            Conv2d-1           [-1, 20, 24, 24]             520\n",
            "            Conv2d-2             [-1, 50, 8, 8]          25,050\n",
            "            Linear-3                  [-1, 500]         400,500\n",
            "            Linear-4                  [-1, 500]         250,500\n",
            "            Linear-5                   [-1, 62]          31,062\n",
            "================================================================\n",
            "Total params: 707,632\n",
            "Trainable params: 707,632\n",
            "Non-trainable params: 0\n",
            "----------------------------------------------------------------\n",
            "Input size (MB): 0.00\n",
            "Forward/backward pass size (MB): 0.12\n",
            "Params size (MB): 2.70\n",
            "Estimated Total Size (MB): 2.82\n",
            "----------------------------------------------------------------\n",
            "0:0.80267,1:0.82929,2:0.83937,3:0.84345,4:0.84683,5:0.85028,6:0.85144,7:0.85260,8:0.85438,9:0.85490,10:0.85555,11:0.85559,12:0.85637,13:0.85824,14:0.85845,15:0.85664,16:0.85860,17:0.85881,18:0.85896,19:0.85980,\n",
            "Best Accuracy:0.8597955703735352 at epoch 19\n"
          ],
          "name": "stdout"
        },
        {
          "output_type": "display_data",
          "data": {
            "image/png": "[encoded data removed]",
            "text/plain": [
              "<Figure size 432x288 with 1 Axes>"
            ]
          },
          "metadata": {
            "tags": [],
            "needs_background": "light"
          }
        },
        {
          "output_type": "stream",
          "text": [
            "2020-04-11 03:13:21.300016\n",
            "CNN, Dropout: 0.1, Batch Normalization: False argumentation\n",
            "----------------------------------------------------------------\n",
            "        Layer (type)               Output Shape         Param #\n",
            "================================================================\n",
            "            Conv2d-1           [-1, 20, 24, 24]             520\n",
            "            Conv2d-2             [-1, 50, 8, 8]          25,050\n",
            "            Linear-3                  [-1, 500]         400,500\n",
            "            Linear-4                  [-1, 500]         250,500\n",
            "            Linear-5                   [-1, 62]          31,062\n",
            "================================================================\n",
            "Total params: 707,632\n",
            "Trainable params: 707,632\n",
            "Non-trainable params: 0\n",
            "----------------------------------------------------------------\n",
            "Input size (MB): 0.00\n",
            "Forward/backward pass size (MB): 0.12\n",
            "Params size (MB): 2.70\n",
            "Estimated Total Size (MB): 2.82\n",
            "----------------------------------------------------------------\n",
            "0:0.85948,1:0.85979,2:0.86025,3:0.85954,4:0.85952,5:0.86023,6:0.85938,7:0.86036,8:0.86037,9:0.86002,10:0.85966,11:0.85947,12:0.85992,13:0.86009,14:0.85900,15:0.85974,16:0.85846,"
          ],
          "name": "stdout"
        },
        {
          "output_type": "error",
          "ename": "KeyboardInterrupt",
          "evalue": "ignored",
          "traceback": [
            "\u001b[0;31m---------------------------------------------------------------------------\u001b[0m",
            "\u001b[0;31mKeyboardInterrupt\u001b[0m                         Traceback (most recent call last)",
            "\u001b[0;32m<ipython-input-5-973ae3efaf2c>\u001b[0m in \u001b[0;36m<module>\u001b[0;34m()\u001b[0m\n\u001b[1;32m     36\u001b[0m           \u001b[0mout\u001b[0m\u001b[0;34m,\u001b[0m\u001b[0mloss\u001b[0m \u001b[0;34m=\u001b[0m \u001b[0mapply_model\u001b[0m \u001b[0;34m(\u001b[0m\u001b[0mmodel\u001b[0m\u001b[0;34m,\u001b[0m\u001b[0mx\u001b[0m\u001b[0;34m,\u001b[0m\u001b[0mtarget\u001b[0m\u001b[0;34m)\u001b[0m\u001b[0;34m\u001b[0m\u001b[0;34m\u001b[0m\u001b[0m\n\u001b[1;32m     37\u001b[0m           \u001b[0mave_loss\u001b[0m \u001b[0;34m=\u001b[0m \u001b[0mave_loss\u001b[0m \u001b[0;34m*\u001b[0m \u001b[0;36m0.9\u001b[0m \u001b[0;34m+\u001b[0m \u001b[0mloss\u001b[0m\u001b[0;34m.\u001b[0m\u001b[0mdata\u001b[0m\u001b[0;34m*\u001b[0m \u001b[0;36m0.1\u001b[0m\u001b[0;34m\u001b[0m\u001b[0;34m\u001b[0m\u001b[0m\n\u001b[0;32m---> 38\u001b[0;31m           \u001b[0mloss\u001b[0m\u001b[0;34m.\u001b[0m\u001b[0mbackward\u001b[0m\u001b[0;34m(\u001b[0m\u001b[0;34m)\u001b[0m\u001b[0;34m\u001b[0m\u001b[0;34m\u001b[0m\u001b[0m\n\u001b[0m\u001b[1;32m     39\u001b[0m           \u001b[0moptimizer\u001b[0m\u001b[0;34m.\u001b[0m\u001b[0mstep\u001b[0m\u001b[0;34m(\u001b[0m\u001b[0;34m)\u001b[0m\u001b[0;34m\u001b[0m\u001b[0;34m\u001b[0m\u001b[0m\n\u001b[1;32m     40\u001b[0m           \u001b[0;32mif\u001b[0m \u001b[0;34m(\u001b[0m\u001b[0mbatch_idx\u001b[0m\u001b[0;34m+\u001b[0m\u001b[0;36m1\u001b[0m\u001b[0;34m)\u001b[0m \u001b[0;34m==\u001b[0m \u001b[0mlen\u001b[0m\u001b[0;34m(\u001b[0m\u001b[0mtrain_loader\u001b[0m\u001b[0;34m)\u001b[0m \u001b[0;32mor\u001b[0m \u001b[0mbatch_idx\u001b[0m \u001b[0;34m>\u001b[0m\u001b[0msample_limit\u001b[0m\u001b[0;34m:\u001b[0m\u001b[0;34m\u001b[0m\u001b[0;34m\u001b[0m\u001b[0m\n",
            "\u001b[0;32m/usr/local/lib/python3.6/dist-packages/torch/tensor.py\u001b[0m in \u001b[0;36mbackward\u001b[0;34m(self, gradient, retain_graph, create_graph)\u001b[0m\n\u001b[1;32m    193\u001b[0m                 \u001b[0mproducts\u001b[0m\u001b[0;34m.\u001b[0m \u001b[0mDefaults\u001b[0m \u001b[0mto\u001b[0m\u001b[0;31m \u001b[0m\u001b[0;31m`\u001b[0m\u001b[0;31m`\u001b[0m\u001b[0;32mFalse\u001b[0m\u001b[0;31m`\u001b[0m\u001b[0;31m`\u001b[0m\u001b[0;34m.\u001b[0m\u001b[0;34m\u001b[0m\u001b[0;34m\u001b[0m\u001b[0m\n\u001b[1;32m    194\u001b[0m         \"\"\"\n\u001b[0;32m--> 195\u001b[0;31m         \u001b[0mtorch\u001b[0m\u001b[0;34m.\u001b[0m\u001b[0mautograd\u001b[0m\u001b[0;34m.\u001b[0m\u001b[0mbackward\u001b[0m\u001b[0;34m(\u001b[0m\u001b[0mself\u001b[0m\u001b[0;34m,\u001b[0m \u001b[0mgradient\u001b[0m\u001b[0;34m,\u001b[0m \u001b[0mretain_graph\u001b[0m\u001b[0;34m,\u001b[0m \u001b[0mcreate_graph\u001b[0m\u001b[0;34m)\u001b[0m\u001b[0;34m\u001b[0m\u001b[0;34m\u001b[0m\u001b[0m\n\u001b[0m\u001b[1;32m    196\u001b[0m \u001b[0;34m\u001b[0m\u001b[0m\n\u001b[1;32m    197\u001b[0m     \u001b[0;32mdef\u001b[0m \u001b[0mregister_hook\u001b[0m\u001b[0;34m(\u001b[0m\u001b[0mself\u001b[0m\u001b[0;34m,\u001b[0m \u001b[0mhook\u001b[0m\u001b[0;34m)\u001b[0m\u001b[0;34m:\u001b[0m\u001b[0;34m\u001b[0m\u001b[0;34m\u001b[0m\u001b[0m\n",
            "\u001b[0;32m/usr/local/lib/python3.6/dist-packages/torch/autograd/__init__.py\u001b[0m in \u001b[0;36mbackward\u001b[0;34m(tensors, grad_tensors, retain_graph, create_graph, grad_variables)\u001b[0m\n\u001b[1;32m     97\u001b[0m     Variable._execution_engine.run_backward(\n\u001b[1;32m     98\u001b[0m         \u001b[0mtensors\u001b[0m\u001b[0;34m,\u001b[0m \u001b[0mgrad_tensors\u001b[0m\u001b[0;34m,\u001b[0m \u001b[0mretain_graph\u001b[0m\u001b[0;34m,\u001b[0m \u001b[0mcreate_graph\u001b[0m\u001b[0;34m,\u001b[0m\u001b[0;34m\u001b[0m\u001b[0;34m\u001b[0m\u001b[0m\n\u001b[0;32m---> 99\u001b[0;31m         allow_unreachable=True)  # allow_unreachable flag\n\u001b[0m\u001b[1;32m    100\u001b[0m \u001b[0;34m\u001b[0m\u001b[0m\n\u001b[1;32m    101\u001b[0m \u001b[0;34m\u001b[0m\u001b[0m\n",
            "\u001b[0;31mKeyboardInterrupt\u001b[0m: "
          ]
        }
      ]
    },
    {
      "cell_type": "markdown",
      "metadata": {
        "id": "WtV9CJXYmZ5K",
        "colab_type": "text"
      },
      "source": [
        "#### Best Accuracy:0.8650997877120972 at epoch 6\n",
        "#### Best Accuracy:0.8614203333854675 at epoch 9\n",
        "#### Best Accuracy:0.8674553036689758 at epoch 9\n",
        "#### Best Accuracy:0.8606036901473999 at epoch 13\n",
        "#### Best Accuracy:0.864669919013977 at epoch 8\n"
      ]
    }
  ]
}